{
  "nbformat": 4,
  "nbformat_minor": 0,
  "metadata": {
    "colab": {
      "provenance": []
    },
    "kernelspec": {
      "name": "python3",
      "display_name": "Python 3"
    },
    "language_info": {
      "name": "python"
    }
  },
  "cells": [
    {
      "cell_type": "markdown",
      "metadata": {
        "id": "MuYB4pE_viZG"
      },
      "source": [
        "# Práctica de la librería Numpy\n",
        "\n",
        "Este es mi notebook relacionado con el ejercicio desarrollado en el curso de Udemy \"Python Total\".\n"
      ]
    },
    {
      "cell_type": "code",
      "metadata": {
        "id": "Hrz__kvsviZL"
      },
      "source": [
        "# Importamos Numpy con su abreviación \"np\"\n",
        "import numpy as np"
      ],
      "execution_count": null,
      "outputs": []
    },
    {
      "cell_type": "code",
      "metadata": {
        "id": "9fwuO-3_viZM",
        "colab": {
          "base_uri": "https://localhost:8080/"
        },
        "outputId": "a4eef4a8-8205-4d11-ff2e-b1571dc06b93"
      },
      "source": [
        "# Podemos crear arrays de una dimensión con la función np.array()\n",
        "array = np.array([1, 2, 3])\n",
        "print(array)\n",
        "print()\n",
        "# O un array de dos dimensiones (bidimensional)\n",
        "array_2 = np.array([[4, 5, 6, 5],[3, 2, 1, 6]])\n",
        "print(array_2)\n",
        "print()\n",
        "# O un array de tres dimensiones (tridimensional)\n",
        "array_3 = np.array([[4, 5, 6],[3, 2, 1],[4, 4, 4]])\n",
        "print(array_3)"
      ],
      "execution_count": null,
      "outputs": [
        {
          "output_type": "stream",
          "name": "stdout",
          "text": [
            "[1 2 3]\n",
            "\n",
            "[[4 5 6 5]\n",
            " [3 2 1 6]]\n",
            "\n",
            "[[4 5 6]\n",
            " [3 2 1]\n",
            " [4 4 4]]\n"
          ]
        }
      ]
    },
    {
      "cell_type": "markdown",
      "metadata": {
        "id": "qp2_ZpJXviZN"
      },
      "source": [
        "Para cada uno de estos arrays, podemos obtener sus propiedades, tales como su \"forma\", número de dimensiones, tipos de datos y tamaño."
      ]
    },
    {
      "cell_type": "code",
      "metadata": {
        "id": "m2HD8334viZN",
        "colab": {
          "base_uri": "https://localhost:8080/"
        },
        "outputId": "11e4bcab-1464-4662-fbca-1cd594805abc"
      },
      "source": [
        "# Atributos del array unidimensional (forma, número de dimensiones, tipos de datos, tamaño, y tipo)\n",
        "print(array.shape)\n",
        "print(array.ndim)\n",
        "print(array.dtype)\n",
        "print(array.size)\n",
        "print(type(array))"
      ],
      "execution_count": null,
      "outputs": [
        {
          "output_type": "stream",
          "name": "stdout",
          "text": [
            "(3,)\n",
            "1\n",
            "int64\n",
            "3\n",
            "<class 'numpy.ndarray'>\n"
          ]
        }
      ]
    },
    {
      "cell_type": "code",
      "metadata": {
        "id": "CW6dU4z6viZO",
        "colab": {
          "base_uri": "https://localhost:8080/"
        },
        "outputId": "9619069d-b4fd-4a07-ef38-ea7aa108d6ed"
      },
      "source": [
        "# Atributos del array bidimensional\n",
        "print(array_2.shape)\n",
        "print(array_2.ndim)\n",
        "print(array_2.dtype)\n",
        "print(array_2.size)\n",
        "print(type(array_2))"
      ],
      "execution_count": null,
      "outputs": [
        {
          "output_type": "stream",
          "name": "stdout",
          "text": [
            "(2, 4)\n",
            "2\n",
            "int64\n",
            "8\n",
            "<class 'numpy.ndarray'>\n"
          ]
        }
      ]
    },
    {
      "cell_type": "code",
      "metadata": {
        "id": "2dQw-98tviZP",
        "colab": {
          "base_uri": "https://localhost:8080/"
        },
        "outputId": "290220f4-5a83-4a4b-bbe7-88e900642f8b"
      },
      "source": [
        "# Atributos del array tridimensional\n",
        "print(array_3.shape)\n",
        "print(array_3.ndim)\n",
        "print(array_3.dtype)\n",
        "print(array_3.size)\n",
        "print(type(array_3))"
      ],
      "execution_count": null,
      "outputs": [
        {
          "output_type": "stream",
          "name": "stdout",
          "text": [
            "(3, 3)\n",
            "2\n",
            "int64\n",
            "9\n",
            "<class 'numpy.ndarray'>\n"
          ]
        }
      ]
    },
    {
      "cell_type": "code",
      "metadata": {
        "id": "bqWXuSpEviZQ",
        "colab": {
          "base_uri": "https://localhost:8080/"
        },
        "outputId": "95819cd8-3958-49b4-b1d9-f112418b2625"
      },
      "source": [
        "# Importamos pandas como pd, y creamos un DataFrame a partir del array bidimensional\n",
        "import pandas as pd\n",
        "df = pd.DataFrame(array_2)\n",
        "print(df)"
      ],
      "execution_count": null,
      "outputs": [
        {
          "output_type": "stream",
          "name": "stdout",
          "text": [
            "   0  1  2  3\n",
            "0  4  5  6  5\n",
            "1  3  2  1  6\n"
          ]
        }
      ]
    },
    {
      "cell_type": "code",
      "metadata": {
        "id": "uxuBbWJlviZQ",
        "colab": {
          "base_uri": "https://localhost:8080/"
        },
        "outputId": "525e1bb8-b447-4e90-9aef-4ff563574782"
      },
      "source": [
        "# Creamos un array de tamaño 5x10, formado únicamente por unos (1)\n",
        "array_unos = np.ones((5, 10))\n",
        "print(array_unos)"
      ],
      "execution_count": null,
      "outputs": [
        {
          "output_type": "stream",
          "name": "stdout",
          "text": [
            "[[1. 1. 1. 1. 1. 1. 1. 1. 1. 1.]\n",
            " [1. 1. 1. 1. 1. 1. 1. 1. 1. 1.]\n",
            " [1. 1. 1. 1. 1. 1. 1. 1. 1. 1.]\n",
            " [1. 1. 1. 1. 1. 1. 1. 1. 1. 1.]\n",
            " [1. 1. 1. 1. 1. 1. 1. 1. 1. 1.]]\n"
          ]
        }
      ]
    },
    {
      "cell_type": "code",
      "metadata": {
        "id": "lf4ntwB-viZR",
        "colab": {
          "base_uri": "https://localhost:8080/"
        },
        "outputId": "89be797b-6ca5-4636-926f-4127b43295e0"
      },
      "source": [
        "# Creamos un array de tamaño 2x4x3, formado únicamente por ceros (0)\n",
        "array_ceros = np.zeros((2, 3, 4))\n",
        "print(array_ceros)"
      ],
      "execution_count": null,
      "outputs": [
        {
          "output_type": "stream",
          "name": "stdout",
          "text": [
            "[[[0. 0. 0. 0.]\n",
            "  [0. 0. 0. 0.]\n",
            "  [0. 0. 0. 0.]]\n",
            "\n",
            " [[0. 0. 0. 0.]\n",
            "  [0. 0. 0. 0.]\n",
            "  [0. 0. 0. 0.]]]\n"
          ]
        }
      ]
    },
    {
      "cell_type": "code",
      "metadata": {
        "id": "HSJS5vPvviZS",
        "colab": {
          "base_uri": "https://localhost:8080/"
        },
        "outputId": "eb159684-c55d-4723-f8a4-46fb9d01b6cd"
      },
      "source": [
        "# Creamos un array de números en el rango de 0 a 100, con un paso de 5\n",
        "array_serie = np.arange(0,101,5)\n",
        "print(array_serie)"
      ],
      "execution_count": null,
      "outputs": [
        {
          "output_type": "stream",
          "name": "stdout",
          "text": [
            "[  0   5  10  15  20  25  30  35  40  45  50  55  60  65  70  75  80  85\n",
            "  90  95 100]\n"
          ]
        }
      ]
    },
    {
      "cell_type": "code",
      "metadata": {
        "id": "IuSvyty3viZT",
        "colab": {
          "base_uri": "https://localhost:8080/"
        },
        "outputId": "3e2546a2-1c81-4507-85c5-4010c8157b2c"
      },
      "source": [
        "# Creamos un array de números aleatorios enteros comprendidos en entre 0 y 10, de tamaño (2, 5)\n",
        "array_aleatorio = np.random.randint(0, 11, size=(2, 5))\n",
        "print(array_aleatorio)"
      ],
      "execution_count": null,
      "outputs": [
        {
          "output_type": "stream",
          "name": "stdout",
          "text": [
            "[[ 6  6  5 10  9]\n",
            " [ 7  4  9  8 10]]\n"
          ]
        }
      ]
    },
    {
      "cell_type": "code",
      "metadata": {
        "id": "grncP2mwviZT",
        "colab": {
          "base_uri": "https://localhost:8080/"
        },
        "outputId": "51e9f8ac-8e6e-448d-8333-103c9e02d909"
      },
      "source": [
        "# Creamos un array de números aleatorios decimales comprendidos en entre 0 y 1, de tamaño (3, 5)\n",
        "array_aleatorio_2 = np.random.rand(3, 5)\n",
        "print(array_aleatorio_2)"
      ],
      "execution_count": null,
      "outputs": [
        {
          "output_type": "stream",
          "name": "stdout",
          "text": [
            "[[0.24772054 0.87857072 0.93789796 0.30600962 0.46534981]\n",
            " [0.17365457 0.22239385 0.28297816 0.61789544 0.19728761]\n",
            " [0.8592404  0.39513751 0.69716513 0.46886743 0.11347052]]\n"
          ]
        }
      ]
    },
    {
      "cell_type": "code",
      "metadata": {
        "id": "8pCexJ6zviZT",
        "colab": {
          "base_uri": "https://localhost:8080/"
        },
        "outputId": "362735f8-5ebc-42b4-95f7-9c1d6a7c08ed"
      },
      "source": [
        "# Establecemos la \"semilla\" de números aleatorios en 27\n",
        "np.random.seed(10000)\n",
        "\n",
        "# Creamos un array de números aleatorios enteros comprendidos en entre 0 y 10, de tamaño (3, 5)\n",
        "array_aleatorio_3 = np.random.randint(0, 11, size=(2, 5))\n",
        "print(array_aleatorio_3)"
      ],
      "execution_count": null,
      "outputs": [
        {
          "output_type": "stream",
          "name": "stdout",
          "text": [
            "[[5 8 2 5 8]\n",
            " [9 1 6 8 5]]\n"
          ]
        }
      ]
    },
    {
      "cell_type": "code",
      "metadata": {
        "id": "acrAc-j4viZY",
        "colab": {
          "base_uri": "https://localhost:8080/"
        },
        "outputId": "a44f79ae-1de6-49fb-989f-dc04a65106d7"
      },
      "source": [
        "# Encontramos los valores únicos del array_2\n",
        "print(np.unique(array_2))"
      ],
      "execution_count": null,
      "outputs": [
        {
          "output_type": "stream",
          "name": "stdout",
          "text": [
            "[1 2 3 4 5 6]\n"
          ]
        }
      ]
    },
    {
      "cell_type": "code",
      "metadata": {
        "id": "d-pXWguvviZZ",
        "colab": {
          "base_uri": "https://localhost:8080/"
        },
        "outputId": "050924b3-e3e0-430c-8afc-f0ec8be936fe"
      },
      "source": [
        "# Extraemos el elemento de índice 1 del array_2\n",
        "print(array_2[1])"
      ],
      "execution_count": null,
      "outputs": [
        {
          "output_type": "stream",
          "name": "stdout",
          "text": [
            "[3 2 1 6]\n"
          ]
        }
      ]
    },
    {
      "cell_type": "code",
      "metadata": {
        "id": "cVx_UouPviZa",
        "colab": {
          "base_uri": "https://localhost:8080/"
        },
        "outputId": "50bf304b-540f-4c66-ad11-cfce4d23f356"
      },
      "source": [
        "# Extraemos la primera fila del array_2\n",
        "print(array_2[:1])"
      ],
      "execution_count": null,
      "outputs": [
        {
          "output_type": "stream",
          "name": "stdout",
          "text": [
            "[[4 5 6 5]]\n"
          ]
        }
      ]
    },
    {
      "cell_type": "code",
      "metadata": {
        "id": "rIsVaI-JviZa",
        "colab": {
          "base_uri": "https://localhost:8080/"
        },
        "outputId": "abe9ed88-eb4a-4800-b25b-72e6d60b2833"
      },
      "source": [
        "# Extraemos los dos primeros datos de la primera fila del array_2\n",
        "print(array_2[:1, :2])"
      ],
      "execution_count": null,
      "outputs": [
        {
          "output_type": "stream",
          "name": "stdout",
          "text": [
            "[[4 5]]\n"
          ]
        }
      ]
    },
    {
      "cell_type": "code",
      "metadata": {
        "id": "3sw4JCF6viZb",
        "colab": {
          "base_uri": "https://localhost:8080/"
        },
        "outputId": "11f1d2a4-d23f-49b5-d681-386f1db4f658"
      },
      "source": [
        "# Creamos dos arrays de tamaño 3x4: uno relleno de números aleatorios entre 0 y 10, y otro relleno de unos\n",
        "array_5 = np.random.randint(0, 11, size=(3, 4))\n",
        "array_6 = np.ones((3, 4))\n",
        "print(array_5)\n",
        "print()\n",
        "print(array_6)"
      ],
      "execution_count": null,
      "outputs": [
        {
          "output_type": "stream",
          "name": "stdout",
          "text": [
            "[[ 9  6  0 10]\n",
            " [ 8  6  4  2]\n",
            " [ 1  0  5  0]]\n",
            "\n",
            "[[1. 1. 1. 1.]\n",
            " [1. 1. 1. 1.]\n",
            " [1. 1. 1. 1.]]\n"
          ]
        }
      ]
    },
    {
      "cell_type": "code",
      "metadata": {
        "id": "EoBkbsHqviZb",
        "colab": {
          "base_uri": "https://localhost:8080/"
        },
        "outputId": "f582f790-cf62-4e5c-cf59-941bd157b154"
      },
      "source": [
        "# Sumamos los dos arrays\n",
        "print(array_5 + array_6)"
      ],
      "execution_count": null,
      "outputs": [
        {
          "output_type": "stream",
          "name": "stdout",
          "text": [
            "[[10.  7.  1. 11.]\n",
            " [ 9.  7.  5.  3.]\n",
            " [ 2.  1.  6.  1.]]\n"
          ]
        }
      ]
    },
    {
      "cell_type": "code",
      "metadata": {
        "id": "493z2XKFviZc"
      },
      "source": [
        "# Creamos ahora un array de tamaño (4,3) lleno de unos\n",
        "array_7 = np.ones((4, 3))"
      ],
      "execution_count": null,
      "outputs": []
    },
    {
      "cell_type": "code",
      "metadata": {
        "id": "f19RtdoYviZc"
      },
      "source": [
        "# Intentaremos sumar los arrays 6 y 7\n",
        "# print(array_6 + array_7)"
      ],
      "execution_count": null,
      "outputs": []
    },
    {
      "cell_type": "code",
      "metadata": {
        "id": "obwyxLmWviZc"
      },
      "source": [
        "# Entonces crearemos otro array de tamaño (4,3) lleno de unos\n",
        "array_8 = np.ones((4, 3))"
      ],
      "execution_count": null,
      "outputs": []
    },
    {
      "cell_type": "code",
      "metadata": {
        "id": "JyBEsQ5NviZd",
        "colab": {
          "base_uri": "https://localhost:8080/"
        },
        "outputId": "e1fb9e2b-55c9-4896-d79b-69a156df0307"
      },
      "source": [
        "# Restamos el array_8 al array_7\n",
        "print(array_7 - array_8)"
      ],
      "execution_count": null,
      "outputs": [
        {
          "output_type": "stream",
          "name": "stdout",
          "text": [
            "[[0. 0. 0.]\n",
            " [0. 0. 0.]\n",
            " [0. 0. 0.]\n",
            " [0. 0. 0.]]\n"
          ]
        }
      ]
    },
    {
      "cell_type": "code",
      "metadata": {
        "id": "utZb5NTzviZd",
        "colab": {
          "base_uri": "https://localhost:8080/"
        },
        "outputId": "27f5f18b-710f-4518-8a48-e056246ce31e"
      },
      "source": [
        "# Creamos otros dos arrays de tamaño 3x3 con números aleatorios del 1 al 5\n",
        "array_9 = np.random.randint(1, 6, size=(3, 3))\n",
        "array_10 = np.random.randint(1, 6, size=(3, 3))\n",
        "print(array_9)\n",
        "print()\n",
        "print(array_10)"
      ],
      "execution_count": null,
      "outputs": [
        {
          "output_type": "stream",
          "name": "stdout",
          "text": [
            "[[3 2 1]\n",
            " [3 4 4]\n",
            " [3 2 4]]\n",
            "\n",
            "[[3 2 3]\n",
            " [2 1 4]\n",
            " [4 4 2]]\n"
          ]
        }
      ]
    },
    {
      "cell_type": "code",
      "metadata": {
        "id": "ZhBCrrbKviZd",
        "colab": {
          "base_uri": "https://localhost:8080/"
        },
        "outputId": "19cbf6af-5670-4632-8a3d-991060897444"
      },
      "source": [
        "# Multiplicamos los últimos dos arrays entre sí\n",
        "print(array_9*array_10)"
      ],
      "execution_count": null,
      "outputs": [
        {
          "output_type": "stream",
          "name": "stdout",
          "text": [
            "[[ 9  4  3]\n",
            " [ 6  4 16]\n",
            " [12  8  8]]\n"
          ]
        }
      ]
    },
    {
      "cell_type": "code",
      "metadata": {
        "id": "-u-zydBZviZd",
        "colab": {
          "base_uri": "https://localhost:8080/"
        },
        "outputId": "7febe0f1-ffde-46a8-a0e7-1d3e989b51c2"
      },
      "source": [
        "# Elevamos el array_9 al cuadrado\n",
        "print(array_9*array_9)"
      ],
      "execution_count": null,
      "outputs": [
        {
          "output_type": "stream",
          "name": "stdout",
          "text": [
            "[[ 9  4  1]\n",
            " [ 9 16 16]\n",
            " [ 9  4 16]]\n"
          ]
        }
      ]
    },
    {
      "cell_type": "code",
      "metadata": {
        "id": "dMEqsjSD3D6F",
        "colab": {
          "base_uri": "https://localhost:8080/"
        },
        "outputId": "a790b0d9-4468-44d4-f868-768ed57522db"
      },
      "source": [
        "# Buscamos la raíz cuadrada del array_10\n",
        "print(np.sqrt(array_9))"
      ],
      "execution_count": null,
      "outputs": [
        {
          "output_type": "stream",
          "name": "stdout",
          "text": [
            "[[1.73205081 1.41421356 1.        ]\n",
            " [1.73205081 2.         2.        ]\n",
            " [1.73205081 1.41421356 2.        ]]\n"
          ]
        }
      ]
    },
    {
      "cell_type": "code",
      "metadata": {
        "id": "4TlMFRRFviZd",
        "colab": {
          "base_uri": "https://localhost:8080/"
        },
        "outputId": "1ca448bb-e587-4d04-86a2-931c69bad67e"
      },
      "source": [
        "# Hallamos el promedio de los valores del array_9\n",
        "print(np.mean(array_9))"
      ],
      "execution_count": null,
      "outputs": [
        {
          "output_type": "stream",
          "name": "stdout",
          "text": [
            "2.888888888888889\n"
          ]
        }
      ]
    },
    {
      "cell_type": "code",
      "metadata": {
        "id": "mu1-ASw7viZd",
        "colab": {
          "base_uri": "https://localhost:8080/"
        },
        "outputId": "13535bf7-7ba1-4472-f922-0ad275159abd"
      },
      "source": [
        "# Hallamos el valor máximo de los valores del array_9\n",
        "print(np.max(array_9))"
      ],
      "execution_count": null,
      "outputs": [
        {
          "output_type": "stream",
          "name": "stdout",
          "text": [
            "4\n"
          ]
        }
      ]
    },
    {
      "cell_type": "code",
      "metadata": {
        "id": "iKAPHmnVviZe"
      },
      "source": [
        "# Hallamos el valor mínimo de los valores del array_9\n",
        "print(np.min(array_9))"
      ],
      "execution_count": null,
      "outputs": []
    },
    {
      "cell_type": "code",
      "metadata": {
        "id": "K2N9WX6dviZe",
        "colab": {
          "base_uri": "https://localhost:8080/"
        },
        "outputId": "c75d8044-813a-414e-de0c-460557527796"
      },
      "source": [
        "# Cambiamos la forma del array_9 por una de 9x1, y lo almacenamos como array_11\n",
        "array_11 = array_9.reshape(9, 1)\n",
        "print(array_11)"
      ],
      "execution_count": null,
      "outputs": [
        {
          "output_type": "stream",
          "name": "stdout",
          "text": [
            "[[3]\n",
            " [2]\n",
            " [1]\n",
            " [3]\n",
            " [4]\n",
            " [4]\n",
            " [3]\n",
            " [2]\n",
            " [4]]\n"
          ]
        }
      ]
    },
    {
      "cell_type": "code",
      "metadata": {
        "id": "hjv049niviZe",
        "colab": {
          "base_uri": "https://localhost:8080/"
        },
        "outputId": "b830dc97-5f55-442f-edc2-cf5e8b7051aa"
      },
      "source": [
        "# Transponemos el array_11\n",
        "print(np.transpose(array_11))"
      ],
      "execution_count": null,
      "outputs": [
        {
          "output_type": "stream",
          "name": "stdout",
          "text": [
            "[[3 2 1 3 4 4 3 2 4]]\n",
            "[[3 2 1 3 4 4 3 2 4]]\n"
          ]
        }
      ]
    },
    {
      "cell_type": "code",
      "metadata": {
        "id": "ygIkkZcwviZg",
        "colab": {
          "base_uri": "https://localhost:8080/"
        },
        "outputId": "18bb24b6-a906-4f00-a4d6-1d18d165dc15"
      },
      "source": [
        "# Comparamos el array_9 y el array_10, para saber cuáles elementos del array_9 son mayores a los del array_10\n",
        "array_12 = array_9 > array_10\n",
        "print(array_12)"
      ],
      "execution_count": null,
      "outputs": [
        {
          "output_type": "stream",
          "name": "stdout",
          "text": [
            "[[False False False]\n",
            " [ True  True False]\n",
            " [False False  True]]\n"
          ]
        }
      ]
    },
    {
      "cell_type": "markdown",
      "metadata": {
        "id": "-MNVhc50viZg"
      },
      "source": [
        "¿Qué tipos de datos forman parte del array de resultados?"
      ]
    },
    {
      "cell_type": "code",
      "metadata": {
        "id": "JRRyJjDdEUd4",
        "colab": {
          "base_uri": "https://localhost:8080/"
        },
        "outputId": "fddd23d0-df5b-4652-a802-5e2ed14cf1f6"
      },
      "source": [
        "# Veamos sus nuevos tipos de datos\n",
        "print(array_12.dtype)"
      ],
      "execution_count": null,
      "outputs": [
        {
          "output_type": "stream",
          "name": "stdout",
          "text": [
            "bool\n"
          ]
        }
      ]
    },
    {
      "cell_type": "code",
      "metadata": {
        "id": "toyvK5rYviZh",
        "colab": {
          "base_uri": "https://localhost:8080/"
        },
        "outputId": "85827acd-4171-4229-bbe9-f9b29d882a3c"
      },
      "source": [
        "# Alguno de los elementos del array_9 es igual su equivalente del array_10?\n",
        "print(array_9 > array_10)"
      ],
      "execution_count": null,
      "outputs": [
        {
          "output_type": "stream",
          "name": "stdout",
          "text": [
            "[[False False False]\n",
            " [ True  True False]\n",
            " [False False  True]]\n"
          ]
        }
      ]
    },
    {
      "cell_type": "code",
      "metadata": {
        "id": "FXguC1-UviZg",
        "colab": {
          "base_uri": "https://localhost:8080/"
        },
        "outputId": "4060ac73-bb7c-40cb-dbb6-6119efff174f"
      },
      "source": [
        "# Comparamos nuevamente ambos arrays, en esta ocasión con >=\n",
        "print(array_9 >= array_10)"
      ],
      "execution_count": null,
      "outputs": [
        {
          "output_type": "stream",
          "name": "stdout",
          "text": [
            "[[ True  True False]\n",
            " [ True  True  True]\n",
            " [False False  True]]\n"
          ]
        }
      ]
    },
    {
      "cell_type": "code",
      "metadata": {
        "id": "Ws2bJ0ZEviZg"
      },
      "source": [
        "# Buscamos los elementos del array_9 que son mayores a 2\n",
        "print(array_9 > 2)"
      ],
      "execution_count": null,
      "outputs": []
    },
    {
      "cell_type": "code",
      "metadata": {
        "id": "z4XeFVsoviZh",
        "colab": {
          "base_uri": "https://localhost:8080/"
        },
        "outputId": "68f639a6-ab3e-434f-ef1d-0308a41a11c2"
      },
      "source": [
        "# Ordenamos de menor a mayor los elementos dentro del array_9\n",
        "print(np.sort(array_9))"
      ],
      "execution_count": null,
      "outputs": [
        {
          "output_type": "stream",
          "name": "stdout",
          "text": [
            "[[1 2 3]\n",
            " [3 4 4]\n",
            " [2 3 4]]\n"
          ]
        }
      ]
    }
  ]
}